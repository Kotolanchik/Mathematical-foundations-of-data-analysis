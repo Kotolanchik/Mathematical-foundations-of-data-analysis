{
 "cells": [
  {
   "cell_type": "markdown",
   "source": [],
   "metadata": {
    "collapsed": false
   },
   "id": "bf1055c64d59081"
  },
  {
   "cell_type": "markdown",
   "source": [
    "Задание 92 а)\n",
    " Проверить принадлежность данных точек одной прямой: а) А (3; 4; 1), В(1; 0; - 1 ) и С (-2 ;-6 ; -4 );\n",
    "б) А (3 ; 2; - 1 ), В(5; - 1 ; 4) и С (1 ;-7 ; 12). (Указание: использовать коллинеарность векторов, леж ащ их на одной прямой)."
   ],
   "metadata": {
    "collapsed": false
   },
   "id": "1413caceabb8e8ba"
  },
  {
   "cell_type": "code",
   "execution_count": 1,
   "outputs": [
    {
     "name": "stdout",
     "output_type": "stream",
     "text": [
      "Три точки не лежат на одной прямой\n"
     ]
    }
   ],
   "source": [
    "import numpy as np\n",
    "\n",
    "#              x   y   z\n",
    "a = np.array([3, 4, 1])\n",
    "b = np.array([1, 0, -1])\n",
    "c = np.array([-2, -6, -4])\n",
    "\n",
    "if b[0] / a[0] == b[1] / a[1] == b[2] / a[2]:\n",
    "    print('Точки A и B лежат на одной прямой')\n",
    "    if c[0] / b[0] == c[1] / b[1] == c[2] / b[2]:\n",
    "        print('Точки B и C лежат на одной прямой')\n",
    "    else:\n",
    "        print('Три точки не лежат на одной прямой')\n",
    "else:\n",
    "    print('Три точки не лежат на одной прямой')\n"
   ],
   "metadata": {
    "collapsed": false,
    "ExecuteTime": {
     "end_time": "2023-10-15T21:19:30.246142500Z",
     "start_time": "2023-10-15T21:19:30.107615300Z"
    }
   },
   "id": "d86b3ab4d7dce56e"
  },
  {
   "cell_type": "markdown",
   "source": [
    "Задание 92 б)"
   ],
   "metadata": {
    "collapsed": false
   },
   "id": "5546362547196fcb"
  },
  {
   "cell_type": "code",
   "execution_count": 2,
   "outputs": [
    {
     "name": "stdout",
     "output_type": "stream",
     "text": [
      "Три точки не лежат на одной прямой\n"
     ]
    }
   ],
   "source": [
    "# задание 92 (б)\n",
    "import numpy as np\n",
    "\n",
    "#              x   y   z\n",
    "a = np.array([3, 2, -1])\n",
    "b = np.array([5, -1, 4])\n",
    "c = np.array([1, -7, 12])\n",
    "\n",
    "if b[0] / a[0] == b[1] / a[1] == b[2] / a[2]:\n",
    "    print('Точки A и B лежат на одной прямой')\n",
    "    if c[0] / b[0] == c[1] / b[1] == c[2] / b[2]:\n",
    "        print('Точки B и C лежат на одной прямой')\n",
    "    else:\n",
    "        print('Три точки не лежат на одной прямой')\n",
    "else:\n",
    "    print('Три точки не лежат на одной прямой')"
   ],
   "metadata": {
    "collapsed": false,
    "ExecuteTime": {
     "end_time": "2023-10-15T21:20:44.511640100Z",
     "start_time": "2023-10-15T21:20:44.463641200Z"
    }
   },
   "id": "a00c9100871d5947"
  },
  {
   "cell_type": "markdown",
   "source": [
    "задание 93\n"
   ],
   "metadata": {
    "collapsed": false
   },
   "id": "7926a9892207c8d0"
  },
  {
   "cell_type": "code",
   "execution_count": 3,
   "outputs": [
    {
     "name": "stdout",
     "output_type": "stream",
     "text": [
      "[-7 26  3]\n",
      "[  7 -14  18]\n"
     ]
    }
   ],
   "source": [
    "import numpy as np\n",
    "\n",
    "a = np.array([-3,  4, -1])\n",
    "b = np.array([-1,  2,  3])\n",
    "c = np.array([-4, -2,  1])\n",
    "\n",
    "x = 4*a + 3*b - 2*c\n",
    "print(x)\n",
    "\n",
    "y = -5*a + 4*b + c\n",
    "print(y)\n"
   ],
   "metadata": {
    "collapsed": false,
    "ExecuteTime": {
     "end_time": "2023-10-15T21:22:40.642980800Z",
     "start_time": "2023-10-15T21:22:40.583838200Z"
    }
   },
   "id": "783f8209d417d175"
  },
  {
   "cell_type": "markdown",
   "source": [
    "задание 94"
   ],
   "metadata": {
    "collapsed": false
   },
   "id": "1f4f55b192b0170e"
  },
  {
   "cell_type": "code",
   "execution_count": 4,
   "outputs": [
    {
     "name": "stdout",
     "output_type": "stream",
     "text": [
      "21.213203435596427\n",
      "15.000000000000004\n",
      "-21.213203435596423\n"
     ]
    }
   ],
   "source": [
    "import numpy as np\n",
    "import math as m\n",
    "\n",
    "mod_a = 5\n",
    "mod_b = 6\n",
    "\n",
    "# a)\n",
    "ab_45 = mod_a * mod_b * m.cos(m.pi/4)\n",
    "print(ab_45)\n",
    "# б)\n",
    "ab_60 = mod_a * mod_b * m.cos(m.pi/3)\n",
    "print(ab_60)\n",
    "# в)\n",
    "ab_135 = mod_a * mod_b * m.cos(3*m.pi/4)\n",
    "print(ab_135)"
   ],
   "metadata": {
    "collapsed": false,
    "ExecuteTime": {
     "end_time": "2023-10-15T21:23:40.369668700Z",
     "start_time": "2023-10-15T21:23:40.326742200Z"
    }
   },
   "id": "b6392dc22d6d4c5e"
  },
  {
   "cell_type": "markdown",
   "source": [
    "Задание 101"
   ],
   "metadata": {
    "collapsed": false
   },
   "id": "67b32ad6ad892300"
  },
  {
   "cell_type": "code",
   "execution_count": 5,
   "outputs": [
    {
     "name": "stdout",
     "output_type": "stream",
     "text": [
      "Векторы лежат в одной плоскости\n"
     ]
    }
   ],
   "source": [
    "import numpy as np\n",
    "\n",
    "# точки\n",
    "a = np.array([ 3,  5, -4]) # начало\n",
    "b = np.array([ 1, -1, -3])\n",
    "c = np.array([ 7,  2, -6])\n",
    "d = np.array([-1,  3, -2])\n",
    "\n",
    "# векторы\n",
    "ab = b - a\n",
    "ac = c - a\n",
    "ad = d - a\n",
    "\n",
    "matrix = np.vstack([ab, ac, ad])\n",
    "\n",
    "if np.linalg.det(matrix) == 0:\n",
    "  print('Векторы лежат в одной плоскости')\n",
    "else:\n",
    "   print('Векторы не лежат в одной плоскости')\n"
   ],
   "metadata": {
    "collapsed": false,
    "ExecuteTime": {
     "end_time": "2023-10-15T21:25:18.714920100Z",
     "start_time": "2023-10-15T21:25:18.666038800Z"
    }
   },
   "id": "a5d007bd4ea1ab14"
  },
  {
   "cell_type": "markdown",
   "source": [
    "Задание 104\n"
   ],
   "metadata": {
    "collapsed": false
   },
   "id": "a9ef82f48fe0b233"
  },
  {
   "cell_type": "code",
   "execution_count": 6,
   "outputs": [
    {
     "name": "stdout",
     "output_type": "stream",
     "text": [
      "Максимальная линейно независимая подсистема:\n",
      " [[ 1 -1]\n",
      " [ 2  1]\n",
      " [ 6  0]\n",
      " [-1 -2]\n",
      " [ 3  0]]\n",
      "Оставшиеся векторы в виде линейной комбинации линейно независимых векторов:\n",
      " [[ 2.12121212e-01 -1.21212121e-01  1.81818182e-01  3.33333333e-01\n",
      "   9.09090909e-02]\n",
      " [-1.21212121e-01  2.12121212e-01  1.81818182e-01 -3.33333333e-01\n",
      "   9.09090909e-02]\n",
      " [ 1.81818182e-01  1.81818182e-01  7.27272727e-01  0.00000000e+00\n",
      "   3.63636364e-01]\n",
      " [ 3.33333333e-01 -3.33333333e-01  2.08166817e-17  6.66666667e-01\n",
      "   1.04083409e-17]\n",
      " [ 9.09090909e-02  9.09090909e-02  3.63636364e-01  0.00000000e+00\n",
      "   1.81818182e-01]]\n"
     ]
    }
   ],
   "source": [
    "import numpy as np\n",
    "\n",
    "a1 = np.array([ 1, -1,  2,  1])\n",
    "a2 = np.array([ 2,  1, -1,  3])\n",
    "a3 = np.array([ 6,  0,  2,  8])\n",
    "a4 = np.array([-1, -2,  3, -2])\n",
    "a5 = np.array([ 3,  0,  1,  4])\n",
    "\n",
    "A = np.vstack([a1, a2, a3, a4, a5])\n",
    "\n",
    "# сингулярное разложение матрицы\n",
    "u, s, vh = np.linalg.svd(A)\n",
    "\n",
    "# пороговое значение для определения линейно независмимых векторов\n",
    "threshold = np.finfo(float).eps * max(A.shape) * max(s)\n",
    "\n",
    "# индексы\n",
    "independent_indices = np.where(s > threshold)[0]\n",
    "\n",
    "# максимальная линейно независимая подсистема\n",
    "max_independent_subsystem = A[:, independent_indices]\n",
    "\n",
    "# векторы в виде линейной комбинации линейно независимых векторов\n",
    "linear_combination_vectors = np.dot(max_independent_subsystem, np.linalg.inv(np.dot(max_independent_subsystem.T, max_independent_subsystem))).dot(max_independent_subsystem.T)\n",
    "\n",
    "# Вывод результатов\n",
    "print(\"Максимальная линейно независимая подсистема:\\n\", max_independent_subsystem)\n",
    "print(\"Оставшиеся векторы в виде линейной комбинации линейно независимых векторов:\\n\", linear_combination_vectors)\n"
   ],
   "metadata": {
    "collapsed": false,
    "ExecuteTime": {
     "end_time": "2023-10-15T21:27:16.805359600Z",
     "start_time": "2023-10-15T21:27:16.756867100Z"
    }
   },
   "id": "56f7c25514f6d85"
  },
  {
   "cell_type": "markdown",
   "source": [
    "Задание 107\n"
   ],
   "metadata": {
    "collapsed": false
   },
   "id": "5ea3225091da8184"
  },
  {
   "cell_type": "code",
   "execution_count": 8,
   "outputs": [
    {
     "name": "stdout",
     "output_type": "stream",
     "text": [
      "[[-1  2  1]\n",
      " [ 2  1 -2]\n",
      " [ 1  1  1]]\n",
      "Векторы а1, а2, а3 образуют базис\n",
      "[ 2. -1.  1.]\n"
     ]
    }
   ],
   "source": [
    "import numpy as np\n",
    "\n",
    "a1 = np.array([-1,  2,  1])\n",
    "a2 = np.array([ 2,  1, -2])\n",
    "a3 = np.array([ 1,  1,  1])\n",
    "x  = np.array([-3,  4,  5])\n",
    "\n",
    "A = np.vstack([a1, a2, a3])\n",
    "\n",
    "det_A = np.linalg.det(A)\n",
    "\n",
    "if det_A != 0:\n",
    "  print('Векторы а1, а2, а3 образуют базис')\n",
    "  A = A.transpose()\n",
    "  print(np.linalg.solve(A, x))\n",
    "else:\n",
    "  print('Векторы а1, а2, а3 не образуют базис')"
   ],
   "metadata": {
    "collapsed": false,
    "ExecuteTime": {
     "end_time": "2023-10-15T21:30:36.432642500Z",
     "start_time": "2023-10-15T21:30:36.403987800Z"
    }
   },
   "id": "4eec22d214e2181c"
  },
  {
   "cell_type": "markdown",
   "source": [
    "Задание 122"
   ],
   "metadata": {
    "collapsed": false
   },
   "id": "d2e4982106ebe66e"
  },
  {
   "cell_type": "code",
   "execution_count": 9,
   "outputs": [
    {
     "name": "stdout",
     "output_type": "stream",
     "text": [
      "Собственные значения [-0.73205081  2.73205081  2.        ] \n",
      "Собственные векторы [[ 6.13290462e-01 -9.45295908e-01 -8.94427191e-01]\n",
      " [-2.04430154e-01  3.15098636e-01  4.47213595e-01]\n",
      " [ 7.62943721e-01 -8.44304250e-02  4.40659898e-16]]\n"
     ]
    }
   ],
   "source": [
    "import numpy as np\n",
    "\n",
    "A = np.array([[5, 6, -3], [-1, 0, 1], [1, 2, -1]])\n",
    "\n",
    "eigenvalues, eigenvectors = np.linalg.eig(A)\n",
    "\n",
    "print('Собственные значения', eigenvalues, '\\nСобственные векторы', eigenvectors)"
   ],
   "metadata": {
    "collapsed": false,
    "ExecuteTime": {
     "end_time": "2023-10-15T21:31:13.307149300Z",
     "start_time": "2023-10-15T21:31:13.273079900Z"
    }
   },
   "id": "4cb7e2d6ae0b34c5"
  },
  {
   "cell_type": "markdown",
   "source": [
    "Задание 130"
   ],
   "metadata": {
    "collapsed": false
   },
   "id": "58fddc0e406f96cf"
  },
  {
   "cell_type": "code",
   "execution_count": 10,
   "outputs": [
    {
     "name": "stdout",
     "output_type": "stream",
     "text": [
      "Матрица может быть приведена к диагональной форме.\n",
      "[[-1.  0.  0.]\n",
      " [ 0.  1.  0.]\n",
      " [ 0.  0.  2.]]\n"
     ]
    }
   ],
   "source": [
    "import numpy as np\n",
    "\n",
    "A = np.array([[1, 2, 0], [0, 2, 0], [-2, -2, -1]])\n",
    "\n",
    "eigenvalues, eigenvectors = np.linalg.eig(A)\n",
    "\n",
    "if np.allclose(eigenvalues, np.unique(eigenvalues)):\n",
    "  print(\"Матрица может быть приведена к диагональной форме.\")\n",
    "\n",
    "  D = np.diag(eigenvalues)\n",
    "  V_inv = np.linalg.inv(eigenvectors)\n",
    "  diagonal_matrix = np.dot(np.dot(V_inv, A), eigenvectors)\n",
    "\n",
    "  print(diagonal_matrix)\n",
    "else:\n",
    "  print(\"Матрица не может быть приведена к диагональной форме.\")"
   ],
   "metadata": {
    "collapsed": false,
    "ExecuteTime": {
     "end_time": "2023-10-15T21:32:10.213003600Z",
     "start_time": "2023-10-15T21:32:10.156695Z"
    }
   },
   "id": "cd39eb04e3641e68"
  },
  {
   "cell_type": "code",
   "execution_count": null,
   "outputs": [],
   "source": [],
   "metadata": {
    "collapsed": false
   },
   "id": "fb176aa117100eae"
  }
 ],
 "metadata": {
  "kernelspec": {
   "display_name": "Python 3",
   "language": "python",
   "name": "python3"
  },
  "language_info": {
   "codemirror_mode": {
    "name": "ipython",
    "version": 2
   },
   "file_extension": ".py",
   "mimetype": "text/x-python",
   "name": "python",
   "nbconvert_exporter": "python",
   "pygments_lexer": "ipython2",
   "version": "2.7.6"
  }
 },
 "nbformat": 4,
 "nbformat_minor": 5
}
