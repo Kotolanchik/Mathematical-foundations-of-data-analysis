{
 "cells": [
  {
   "cell_type": "markdown",
   "source": [
    "# задание 3\n",
    "В турнире разыгрывается три медали (золотая, серебряная,\n",
    "бронзовая) среди 10 команд. Сколько вариантов различных призовых троек?\n"
   ],
   "metadata": {
    "collapsed": false
   },
   "id": "d94b6b8b4c1d6677"
  },
  {
   "cell_type": "markdown",
   "source": [
    "* Правило произведения.  Пусть требуется выполнить последовательно k действий. Если первое действие можно выполнить n1 способами, второе действие n2 способами, третье – n3 способами и так до k-го действия, которое можно выполнить nk  способами, то все k действий вместе могут быть выполнены: N =  n1 * n2 * ... * nk\n",
    "\n",
    "*   Правило суммы.  Если два действия А и В взаимно исключают друг друга, причем действие А можно выполнить m способами, а В – n способами, то выполнить одно любое из этих действий (либо А, либо В) можно n + m  способами."
   ],
   "metadata": {
    "collapsed": false
   },
   "id": "35c964eff71f5eed"
  },
  {
   "cell_type": "code",
   "execution_count": 7,
   "outputs": [
    {
     "name": "stdout",
     "output_type": "stream",
     "text": [
      "Всего получилось вариантов: 720.0\n"
     ]
    }
   ],
   "source": [
    "import math\n",
    "\n",
    "A = math.factorial(10) / math.factorial(10 - 3)\n",
    "print(\"Всего получилось вариантов:\", A)"
   ],
   "metadata": {
    "collapsed": false,
    "ExecuteTime": {
     "end_time": "2023-10-21T17:43:37.561745400Z",
     "start_time": "2023-10-21T17:43:37.545223700Z"
    }
   },
   "id": "23a48a0fe3b484cc"
  },
  {
   "cell_type": "markdown",
   "source": [
    "# задание 6\n",
    "Сколькими способами можно 17 человек разбить на три\n",
    "группы: две по 5 и одну из 7 человек?\n",
    "\n",
    "\n",
    "сочетания с повторениям - это когда можно выбрать много раз один элемент, а без повторений, когда можно только один раз выбрать элемент"
   ],
   "metadata": {
    "collapsed": false
   },
   "id": "d3acce3210dd8ca8"
  },
  {
   "cell_type": "code",
   "execution_count": 9,
   "outputs": [
    {
     "name": "stdout",
     "output_type": "stream",
     "text": [
      "Всего способов:  4900896.0\n"
     ]
    }
   ],
   "source": [
    "C17m5n = math.factorial(17) / (math.factorial(5) * math.factorial(17 - 5))  # первая группа\n",
    "C12m5n = math.factorial(12) / (math.factorial(5) * math.factorial(12 - 5))  # вторая группа\n",
    "C1 = 1  # третья группа\n",
    "\n",
    "print(\"Всего способов: \", C17m5n * C12m5n * C1)"
   ],
   "metadata": {
    "collapsed": false,
    "ExecuteTime": {
     "end_time": "2023-10-21T17:44:20.646536Z",
     "start_time": "2023-10-21T17:44:20.619029Z"
    }
   },
   "id": "697f1a5aae6e3533"
  },
  {
   "cell_type": "markdown",
   "source": [
    "# Задание 11\n",
    "\n",
    "Сколько существует перестановок из букв слова «институт»?"
   ],
   "metadata": {
    "collapsed": false
   },
   "id": "8f3eddd67007efb9"
  },
  {
   "cell_type": "code",
   "execution_count": 10,
   "outputs": [
    {
     "name": "stdout",
     "output_type": "stream",
     "text": [
      "число перестановок с повторениями: 3360.0\n"
     ]
    }
   ],
   "source": [
    "P21131 = math.factorial(8) / (\n",
    "        math.factorial(2) * math.factorial(1) * math.factorial(1) * math.factorial(3) * math.factorial(1))\n",
    "print(\"число перестановок с повторениями:\", P21131)"
   ],
   "metadata": {
    "collapsed": false,
    "ExecuteTime": {
     "end_time": "2023-10-21T17:46:21.280363Z",
     "start_time": "2023-10-21T17:46:21.255833300Z"
    }
   },
   "id": "18b62863c05994ca"
  },
  {
   "cell_type": "markdown",
   "source": [
    "# Задание 14\n",
    "Сколько можно образовать шестизначных телефонных номеров, если использовать только цифры 2, 5, 3, 8?\n"
   ],
   "metadata": {
    "collapsed": false
   },
   "id": "6987a72a201c139"
  },
  {
   "cell_type": "code",
   "execution_count": 12,
   "outputs": [
    {
     "name": "stdout",
     "output_type": "stream",
     "text": [
      "можно получить следующее число шестизначных номеров: 4096.0\n"
     ]
    }
   ],
   "source": [
    "print(\"можно получить следующее число шестизначных номеров:\", math.pow(4, 6))"
   ],
   "metadata": {
    "collapsed": false,
    "ExecuteTime": {
     "end_time": "2023-10-21T17:48:17.663287500Z",
     "start_time": "2023-10-21T17:48:17.652246Z"
    }
   },
   "id": "b69c8267a3bc243c"
  },
  {
   "cell_type": "markdown",
   "source": [
    "# Задание 19\n",
    "В продаже имеются юбки 5 фасонов и жакеты 4 фасонов.\n",
    "Сколькими способами можно купить костюм из юбки и жакета?"
   ],
   "metadata": {
    "collapsed": false
   },
   "id": "8b860052e19910c1"
  },
  {
   "cell_type": "code",
   "execution_count": 14,
   "outputs": [
    {
     "name": "stdout",
     "output_type": "stream",
     "text": [
      "Всего способов для каждой юбки есть 4 способа жакета: 20\n"
     ]
    }
   ],
   "source": [
    "print(\"Всего способов для каждой юбки есть 4 способа жакета:\", 5 * 4)"
   ],
   "metadata": {
    "collapsed": false,
    "ExecuteTime": {
     "end_time": "2023-10-21T17:50:02.659364400Z",
     "start_time": "2023-10-21T17:50:02.650367800Z"
    }
   },
   "id": "79176996d59ffeb3"
  },
  {
   "cell_type": "markdown",
   "source": [
    "# Задание 22\n",
    "\n",
    "Сколькими способами можно выбрать 3 карты из колоды в\n",
    "32 карты?"
   ],
   "metadata": {
    "collapsed": false
   },
   "id": "91008c9f91b569b"
  },
  {
   "cell_type": "code",
   "execution_count": 15,
   "outputs": [
    {
     "name": "stdout",
     "output_type": "stream",
     "text": [
      "Всего способов: 4960.0\n"
     ]
    }
   ],
   "source": [
    "C32m3n = math.factorial(32) / (math.factorial(3) * math.factorial(32 - 3))  # первая группа\n",
    "print(\"Всего способов:\", C32m3n)"
   ],
   "metadata": {
    "collapsed": false,
    "ExecuteTime": {
     "end_time": "2023-10-21T17:51:24.555687600Z",
     "start_time": "2023-10-21T17:51:24.530161700Z"
    }
   },
   "id": "530aba625984b0bf"
  },
  {
   "cell_type": "markdown",
   "source": [
    "# Задание 27\n",
    "\n",
    "Сколькими способами можно переставить буквы в слове\n",
    "«перешеек», чтобы четыре буквы «е» не стояли рядом?"
   ],
   "metadata": {
    "collapsed": false
   },
   "id": "b1caed12c4452fa"
  },
  {
   "cell_type": "code",
   "execution_count": 18,
   "outputs": [
    {
     "name": "stdout",
     "output_type": "stream",
     "text": [
      "Всего перестановок 1680.0\n",
      "Число перестановок, где 4 буквы \"е\" не стоит рядом: 1560.0\n"
     ]
    }
   ],
   "source": [
    "P14111 = math.factorial(1 + 4 + 1 + 1 + 1) / (\n",
    "        math.factorial(1) * math.factorial(4) * math.factorial(1) * math.factorial(\n",
    "    1) * math.factorial(1))\n",
    "print(\"Всего перестановок\", P14111)\n",
    "EEEE = math.factorial(5)  # число групп, в которых может стоять вместе буква \"е\" всего таких групп 5\n",
    "print(\"Число перестановок, где 4 буквы \\\"е\\\" не стоит рядом:\", P14111 - EEEE)"
   ],
   "metadata": {
    "collapsed": false,
    "ExecuteTime": {
     "end_time": "2023-10-21T18:00:35.124964Z",
     "start_time": "2023-10-21T18:00:35.111447500Z"
    }
   },
   "id": "edf286f515062a16"
  },
  {
   "cell_type": "markdown",
   "source": [
    "# Задание 30\n",
    "Сколько чётных пятизначных чисел можно получить, переставляя цифры 2, 3, 4, 5, 9"
   ],
   "metadata": {
    "collapsed": false
   },
   "id": "8465197ab626f1b5"
  },
  {
   "cell_type": "code",
   "execution_count": 22,
   "outputs": [
    {
     "name": "stdout",
     "output_type": "stream",
     "text": [
      " 2 (Выбор последней цифра) * 4!(Перестановки оставшихся цифр) = 48.0 можно получить пятизначных четных чисел\n"
     ]
    }
   ],
   "source": [
    "digits = [2, 3, 4, 5, 9]\n",
    "\n",
    "last_digit = [digits[0], digits[2]]  # тока четны числа\n",
    "P44 = math.factorial(4) / math.factorial(4 - 4)  # перестановка оставшихся чисел\n",
    "print(\n",
    "    f\" 2 (Выбор последней цифра) * 4!(Перестановки оставшихся цифр) = {P44 * len(last_digit)} можно получить пятизначных четных чисел\")\n"
   ],
   "metadata": {
    "collapsed": false,
    "ExecuteTime": {
     "end_time": "2023-10-21T18:11:12.800964100Z",
     "start_time": "2023-10-21T18:11:12.787441300Z"
    }
   },
   "id": "8e62646e64cba471"
  },
  {
   "cell_type": "markdown",
   "source": [
    "# Задание 35\n",
    "\n",
    "Сколько различных шестизначных чисел можно составить\n",
    "из цифр 1, 2, 3, 4, 5, 6, 7, чтобы цифры не повторялись и крайние\n",
    "цифры были чётными?"
   ],
   "metadata": {
    "collapsed": false
   },
   "id": "c24616c59ce6ba9"
  },
  {
   "cell_type": "code",
   "execution_count": 23,
   "outputs": [
    {
     "name": "stdout",
     "output_type": "stream",
     "text": [
      "Всего способов: 720\n"
     ]
    }
   ],
   "source": [
    "first_last_digits = [[2, 4], [2, 6], [4, 2], [4, 6], [6, 4], [6, 2]]\n",
    "first_last_digits_factorial = math.factorial(3)  # 2 4 6\n",
    "P_inner_digits = math.factorial(5)  # остальные числа \n",
    "\n",
    "print(f\"Всего способов: {len(first_last_digits) * P_inner_digits}\")"
   ],
   "metadata": {
    "collapsed": false,
    "ExecuteTime": {
     "end_time": "2023-10-21T18:18:54.897484900Z",
     "start_time": "2023-10-21T18:18:54.863433500Z"
    }
   },
   "id": "9934e78404cf0dcd"
  },
  {
   "cell_type": "markdown",
   "source": [
    "# Задание 38\n",
    "Сколько пятизначных чисел, делящихся на 5, можно составить из цифр 0, 1, 2, 3, 4, 5 (с повторениями и без повторений)?\n"
   ],
   "metadata": {
    "collapsed": false
   },
   "id": "8d35e5b96a926917"
  },
  {
   "cell_type": "code",
   "execution_count": 25,
   "outputs": [
    {
     "name": "stdout",
     "output_type": "stream",
     "text": [
      "Способов без повторения: 600\n",
      "Способов с повторениями: 2160\n"
     ]
    }
   ],
   "source": [
    "# Без повторений\n",
    "\n",
    "unlock_digits = [0, 1, 2, 3, 4, 5]\n",
    "\n",
    "first_digit = len(unlock_digits) - 1  # лишний ноль\n",
    "second_digit = len(unlock_digits) - 1  # ноль теперь используем, но одно число использовано\n",
    "third_digit = len(unlock_digits) - 2  # два числа испольщовано\n",
    "fourth_digit = len(unlock_digits) - 3\n",
    "fifth_digit = len(unlock_digits) - 4  # (по правилу или 0 или 5)\n",
    "print(f\"Способов без повторения: {first_digit * second_digit * third_digit * fourth_digit * fifth_digit}\")\n",
    "\n",
    "first_digit = len(unlock_digits) - 1  # лишний ноль\n",
    "second_digit = len(unlock_digits)  # ноль теперь используем, но одно число использовано\n",
    "third_digit = len(unlock_digits)  # два числа испольщовано\n",
    "fourth_digit = len(unlock_digits)\n",
    "fifth_digit = len(unlock_digits) - 4  # (по правилу или 0 или 5)\n",
    "print(f\"Способов с повторениями: {first_digit * second_digit * third_digit * fourth_digit * fifth_digit}\")\n"
   ],
   "metadata": {
    "collapsed": false,
    "ExecuteTime": {
     "end_time": "2023-10-21T18:27:39.729313700Z",
     "start_time": "2023-10-21T18:27:39.706184200Z"
    }
   },
   "id": "e9335bd504a16c93"
  },
  {
   "cell_type": "code",
   "execution_count": null,
   "outputs": [],
   "source": [],
   "metadata": {
    "collapsed": false
   },
   "id": "1ff670b24a802c27"
  }
 ],
 "metadata": {
  "kernelspec": {
   "display_name": "Python 3",
   "language": "python",
   "name": "python3"
  },
  "language_info": {
   "codemirror_mode": {
    "name": "ipython",
    "version": 2
   },
   "file_extension": ".py",
   "mimetype": "text/x-python",
   "name": "python",
   "nbconvert_exporter": "python",
   "pygments_lexer": "ipython2",
   "version": "2.7.6"
  }
 },
 "nbformat": 4,
 "nbformat_minor": 5
}
