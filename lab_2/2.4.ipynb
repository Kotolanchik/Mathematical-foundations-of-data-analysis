{
 "cells": [
  {
   "cell_type": "code",
   "execution_count": 3,
   "id": "initial_id",
   "metadata": {
    "collapsed": true,
    "ExecuteTime": {
     "end_time": "2023-10-22T14:09:38.900955300Z",
     "start_time": "2023-10-22T14:09:38.629555800Z"
    }
   },
   "outputs": [
    {
     "name": "stdout",
     "output_type": "stream",
     "text": [
      "Y = 10.61 + 9.47 * X + u\n",
      "Коэффициент детерминации R^2: 0.98\n"
     ]
    },
    {
     "data": {
      "text/plain": "<Figure size 640x480 with 1 Axes>",
      "image/png": "[encoded data removed]"
     },
     "metadata": {},
     "output_type": "display_data"
    }
   ],
   "source": [
    "# Лабораторная работа №5\n",
    "import numpy as np\n",
    "from sklearn.linear_model import LinearRegression\n",
    "import matplotlib.pyplot as plt\n",
    "\n",
    "X = np.array([1, 2, 3, 4, 5, 6, 7, 8, 9, 10])\n",
    "Y = np.array([10, 34, 46, 55, 61, 76, 84, 99, 103, 110])\n",
    "\n",
    "X = X.reshape(-1,1)\n",
    "\n",
    "reg = LinearRegression().fit(X, Y)\n",
    "\n",
    "# Предсказания для выборки Х\n",
    "Y_pred = reg.predict(X)\n",
    "# Выводим формулу линейной регрессии\n",
    "a = reg.coef_[0]\n",
    "b = reg.intercept_\n",
    "print(f'Y = {round(a, 2)} + {round(b, 2)} * X + u')\n",
    "\n",
    "# Вычисляем коэффициент детерминации R^2\n",
    "k_det = reg.score(X, Y) # r2_score - ошибка\n",
    "print(f'Коэффициент детерминации R^2: {round(k_det, 2)}')\n",
    "\n",
    "plt.scatter(X, Y, color = 'blue', label = 'Фактические значения')\n",
    "plt.plot(X, Y_pred, color = 'red', label = 'Линейная регрессия')\n",
    "plt.xlabel('X')\n",
    "plt.ylabel('Y')\n",
    "plt.legend()\n",
    "plt.show()"
   ]
  },
  {
   "cell_type": "code",
   "execution_count": 2,
   "outputs": [
    {
     "name": "stdout",
     "output_type": "stream",
     "text": [
      "Тест Манна-Уитни:\n",
      "\n",
      "X и Y: p-value = 0.0011022527417919228\n",
      "X и Z: p-value = 0.0003263023399855958\n",
      "Y и Z: p-value = 0.000266937342268643\n",
      "\n",
      "Тест Краскела-Уоллиса:\n",
      "p-value = 8.204872037367387e-06\n",
      "\n",
      "Цены на лекарство в городе Москва статистически значимо отличаются от цен в городе СПб\n",
      "Цены на лекарство в городе Москва статистически значимо отличаются от цен в городе Омск\n",
      "Цены на лекарство в городе СПб статистически значимо отличаются от цен в городе Омск\n",
      "Цены на лекарство во всех трех городах статистически значимо отличаются\n"
     ]
    }
   ],
   "source": [
    "# Лабораторная работа №6\n",
    "import numpy as np\n",
    "from scipy import stats\n",
    "\n",
    "X = np.array([100, 129, 205, 134, 0, 130, 156, 130, 141])  # Москва\n",
    "Y = np.array([98, 110, 102, 96, 97, 93, 101, 90, -110, 91, 94, 105])   # СПб\n",
    "Z = np.array([56, 78, 96, 76, 69, 89, 61, 63, 60, 71, 68])  # Омск\n",
    "\n",
    "# Стоимость не может быть нулевой или отрицательной\n",
    "X = X[X > 0]\n",
    "Y = Y[Y > 0]\n",
    "\n",
    "# Тест Манна-Уитни для сравнения выборки X с выборкой Y, X с выборкой Z и Y со Z\n",
    "stat_XY, p_XY = stats.mannwhitneyu(X, Y)\n",
    "stat_XZ, p_XZ = stats.mannwhitneyu(X, Z)\n",
    "stat_YZ, p_YZ = stats.mannwhitneyu(Y, Z)\n",
    "\n",
    "print('Тест Манна-Уитни:\\n'\n",
    "      f'\\nX и Y: p-value = {p_XY}'\n",
    "      f'\\nX и Z: p-value = {p_XZ}'\n",
    "      f'\\nY и Z: p-value = {p_YZ}')\n",
    "\n",
    "# Тест Краскела-Уоллиса для сравнения всех трех выборок\n",
    "stat, p = stats.kruskal(X, Y, Z)\n",
    "\n",
    "print(f'\\nТест Краскела-Уоллиса:\\np-value = {p}\\n')\n",
    "\n",
    "alpha = 0.05\n",
    "\n",
    "if p_XY < alpha:\n",
    "    print('Цены на лекарство в городе Москва статистически значимо отличаются от цен в городе СПб')\n",
    "elif p_XY >= alpha:\n",
    "    print('Цены на лекарство в городе Москва не статистически значимо отличаются от цен в городе СПб')\n",
    "\n",
    "if p_XZ < alpha:\n",
    "    print('Цены на лекарство в городе Москва статистически значимо отличаются от цен в городе Омск')\n",
    "elif p_XZ >= alpha:\n",
    "    print('Цены на лекарство в городе Москва не статистически значимо отличаются от цен в городе Омск')\n",
    "\n",
    "if p_YZ < alpha:\n",
    "    print('Цены на лекарство в городе СПб статистически значимо отличаются от цен в городе Омск')\n",
    "elif p_YZ >= alpha:\n",
    "    print('Цены на лекарство в городе СПб не статистически значимо отличаются от цен в городе Омск')\n",
    "\n",
    "if p < alpha:\n",
    "    print('Цены на лекарство во всех трех городах статистически значимо отличаются')\n",
    "elif p >= alpha:\n",
    "    print('Цены на лекарство в трех городах не статистически значимо отличаются')"
   ],
   "metadata": {
    "collapsed": false,
    "ExecuteTime": {
     "end_time": "2023-10-22T14:09:36.198054300Z",
     "start_time": "2023-10-22T14:09:36.174056700Z"
    }
   },
   "id": "4fc65eb0ac05ef60"
  },
  {
   "cell_type": "code",
   "execution_count": null,
   "outputs": [],
   "source": [],
   "metadata": {
    "collapsed": false
   },
   "id": "d78dd8bc68f26d72"
  }
 ],
 "metadata": {
  "kernelspec": {
   "display_name": "Python 3",
   "language": "python",
   "name": "python3"
  },
  "language_info": {
   "codemirror_mode": {
    "name": "ipython",
    "version": 2
   },
   "file_extension": ".py",
   "mimetype": "text/x-python",
   "name": "python",
   "nbconvert_exporter": "python",
   "pygments_lexer": "ipython2",
   "version": "2.7.6"
  }
 },
 "nbformat": 4,
 "nbformat_minor": 5
}
