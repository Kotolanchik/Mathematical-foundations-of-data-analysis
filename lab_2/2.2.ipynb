{
 "cells": [
  {
   "cell_type": "markdown",
   "source": [
    "# Задание 2\n",
    "Монета брошена три раза. Найти вероятность того, что хотя\n",
    "бы один раз появится изображение герба."
   ],
   "metadata": {
    "collapsed": false
   },
   "id": "f453a6560c3bdf64"
  },
  {
   "cell_type": "code",
   "execution_count": 4,
   "outputs": [
    {
     "name": "stdout",
     "output_type": "stream",
     "text": [
      "0.125\n",
      "Вероятность хотя бы одного герба при 3 бросках монеты: 0.875\n"
     ]
    }
   ],
   "source": [
    "def probability_at_least_one_head(num_coin_tosses):\n",
    "    # Вероятность выпадения герба (орла) на одном броске монеты\n",
    "    probability_head = 0.5\n",
    "\n",
    "    # Вероятность \"отсутствия герба\" на одном броске монеты\n",
    "    probability_no_head = 1 - probability_head\n",
    "\n",
    "    # Вероятность \"отсутствия герба\" при трех бросках монеты\n",
    "    probability_no_head_three_tosses = probability_no_head ** num_coin_tosses\n",
    "\n",
    "    # Вероятность \"хотя бы одного герба\" при трех бросках монеты\n",
    "    probability_at_least_one_head = 1 - probability_no_head_three_tosses\n",
    "\n",
    "    return probability_at_least_one_head\n",
    "\n",
    "\n",
    "num_coin_tosses = 3\n",
    "result = probability_at_least_one_head(num_coin_tosses)\n",
    "print(f\"Вероятность хотя бы одного герба при {num_coin_tosses} бросках монеты: {result}\")\n"
   ],
   "metadata": {
    "collapsed": false,
    "ExecuteTime": {
     "end_time": "2023-10-22T10:52:34.163960900Z",
     "start_time": "2023-10-22T10:52:34.149437600Z"
    }
   },
   "id": "9f024819b7ec4556"
  },
  {
   "cell_type": "markdown",
   "source": [
    "6. В коробке 4 белых и 5 чёрных футболок. Наугад вытаскивают две футболки. Найти вероятность того, что одна из футболок\n",
    "белая, а другая – чёрная."
   ],
   "metadata": {
    "collapsed": false
   },
   "id": "6adcc5cac6db5698"
  },
  {
   "cell_type": "code",
   "execution_count": 6,
   "outputs": [
    {
     "name": "stdout",
     "output_type": "stream",
     "text": [
      "36\n",
      "Вероятность выбрать одну белую и одну черную футболку: 0.56\n"
     ]
    }
   ],
   "source": [
    "from math import comb\n",
    "\n",
    "total_white = 4\n",
    "total_black = 5\n",
    "\n",
    "total_balls = total_white + total_black\n",
    "\n",
    "ways_one_white_one_black = comb(total_white, 1) * comb(total_black, 1)\n",
    "\n",
    "total_ways = comb(total_balls, 2)\n",
    "\n",
    "probability = ways_one_white_one_black / total_ways\n",
    "\n",
    "print(f\"Вероятность выбрать одну белую и одну черную футболку: {probability:.2f}\")\n"
   ],
   "metadata": {
    "collapsed": false,
    "ExecuteTime": {
     "end_time": "2023-10-22T10:56:30.100235Z",
     "start_time": "2023-10-22T10:56:30.070534300Z"
    }
   },
   "id": "ed52ef34a73b67fd"
  },
  {
   "cell_type": "markdown",
   "source": [
    "10. Среди 14 женщин и 9 мужчин разыгрываются 6 билетов на\n",
    "бесплатное посещение театра. Найти вероятность того, что билеты\n",
    "достанутся трём женщинам и трём мужчинам"
   ],
   "metadata": {
    "collapsed": false
   },
   "id": "f76270d64ece230"
  },
  {
   "cell_type": "code",
   "execution_count": 10,
   "outputs": [
    {
     "name": "stdout",
     "output_type": "stream",
     "text": [
      "Вероятность, что билеты достанутся трём женщинам и трём мужчинам: 0.30289\n"
     ]
    }
   ],
   "source": [
    "from math import comb\n",
    "\n",
    "ways_choose_women = comb(14, 3)\n",
    "\n",
    "ways_choose_men = comb(9, 3)\n",
    "\n",
    "total_ways = comb(23, 6)\n",
    "\n",
    "probability = (ways_choose_women * ways_choose_men) / total_ways\n",
    "\n",
    "print(f\"Вероятность, что билеты достанутся трём женщинам и трём мужчинам: {probability:.5f}\")\n"
   ],
   "metadata": {
    "collapsed": false,
    "ExecuteTime": {
     "end_time": "2023-10-22T11:07:19.334236600Z",
     "start_time": "2023-10-22T11:07:19.306292800Z"
    }
   },
   "id": "d781eca000c66599"
  },
  {
   "cell_type": "markdown",
   "source": [
    "14.В клуб принесли в корзине 9 рыжих и 11 серых котят. Наугад выбрано два котёнка. Найти вероятность того, что они разного\n",
    "цвета."
   ],
   "metadata": {
    "collapsed": false
   },
   "id": "87f2d17cc8877302"
  },
  {
   "cell_type": "code",
   "execution_count": 11,
   "outputs": [
    {
     "name": "stdout",
     "output_type": "stream",
     "text": [
      "Вероятность, что два наугад выбранных котёнка будут разного цвета: 0.52105\n"
     ]
    }
   ],
   "source": [
    "from math import comb\n",
    "\n",
    "ways_choose_gray = comb(11, 1)\n",
    "\n",
    "ways_choose_red = comb(9, 1)\n",
    "\n",
    "total_ways = comb(20, 2)\n",
    "\n",
    "probability = (ways_choose_gray * ways_choose_red) / total_ways\n",
    "\n",
    "print(f\"Вероятность, что два наугад выбранных котёнка будут разного цвета: {probability:.5f}\")\n"
   ],
   "metadata": {
    "collapsed": false,
    "ExecuteTime": {
     "end_time": "2023-10-22T11:10:55.665792500Z",
     "start_time": "2023-10-22T11:10:55.639835200Z"
    }
   },
   "id": "4439ab41b497928a"
  },
  {
   "cell_type": "markdown",
   "source": [
    "21.В ящике лежат 15 игрушек, среди которых 4 с дефектами.\n",
    "Найти вероятность того, что среди семи наудачу вынутых игрушек\n",
    "ровно одна окажется с дефектом."
   ],
   "metadata": {
    "collapsed": false
   },
   "id": "1966dfdc20f02560"
  },
  {
   "cell_type": "code",
   "execution_count": 15,
   "outputs": [
    {
     "name": "stdout",
     "output_type": "stream",
     "text": [
      "Вероятность, что среди семи выбранных игрушек ровно одна окажется с дефектом: 0.28718\n"
     ]
    }
   ],
   "source": [
    "from math import comb\n",
    "\n",
    "n = comb(15, 7)\n",
    "\n",
    "m = comb(4, 1) * comb(11, 6)\n",
    "\n",
    "probability = m / n\n",
    "\n",
    "print(f\"Вероятность, что среди семи выбранных игрушек ровно одна окажется с дефектом: {probability:.5f}\")\n"
   ],
   "metadata": {
    "collapsed": false,
    "ExecuteTime": {
     "end_time": "2023-10-22T11:18:57.162013Z",
     "start_time": "2023-10-22T11:18:57.145115300Z"
    }
   },
   "id": "e2c41b7b6eda760c"
  },
  {
   "cell_type": "markdown",
   "source": [
    "27.Доля костюмов высшего качества составляет 85%. Найти\n",
    "вероятность того, что из трёх наугад взятых костюмов хотя бы один будет высшего качества. "
   ],
   "metadata": {
    "collapsed": false
   },
   "id": "14ff7c80343d862b"
  },
  {
   "cell_type": "code",
   "execution_count": 20,
   "outputs": [
    {
     "name": "stdout",
     "output_type": "stream",
     "text": [
      "Вероятность, что из трёх наугад взятых костюмов хотя бы один будет высшего качества: 0.99662\n"
     ]
    }
   ],
   "source": [
    "p_none_high_quality = pow(0.15, 3)\n",
    "\n",
    "p_at_least_one_high_quality = 1 - p_none_high_quality\n",
    "\n",
    "print(\n",
    "    f\"Вероятность, что из трёх наугад взятых костюмов хотя бы один будет высшего качества: {p_at_least_one_high_quality:.5f}\")\n"
   ],
   "metadata": {
    "collapsed": false,
    "ExecuteTime": {
     "end_time": "2023-10-22T11:25:06.056563400Z",
     "start_time": "2023-10-22T11:25:06.044042600Z"
    }
   },
   "id": "730da12086b66601"
  },
  {
   "cell_type": "markdown",
   "source": [
    "33.Произведён залп из трёх орудий по мишени. Вероятность\n",
    "поражения мишени первым орудием равна 0,8; вторым – 0,75;\n",
    "третьим – 0,9. Найти вероятность поражения мишени"
   ],
   "metadata": {
    "collapsed": false
   },
   "id": "556d084ec531ec1b"
  },
  {
   "cell_type": "code",
   "execution_count": 21,
   "outputs": [
    {
     "name": "stdout",
     "output_type": "stream",
     "text": [
      "Вероятность поражения мишени при залпе из трех орудий: 0.99500\n"
     ]
    }
   ],
   "source": [
    "P1 = 0.8\n",
    "P2 = 0.75\n",
    "P3 = 0.9\n",
    "\n",
    "P_not_hit = (1 - P1) * (1 - P2) * (1 - P3)\n",
    "P_hit = 1 - P_not_hit\n",
    "\n",
    "print(f\"Вероятность поражения мишени при залпе из трех орудий: {P_hit:.5f}\")\n"
   ],
   "metadata": {
    "collapsed": false,
    "ExecuteTime": {
     "end_time": "2023-10-22T11:27:04.911506300Z",
     "start_time": "2023-10-22T11:27:04.865983600Z"
    }
   },
   "id": "23b7a1866a84fb27"
  },
  {
   "cell_type": "markdown",
   "source": [
    "40. Из колоды из 32 карт наугад одна за другой вынимают четыре карты. Найти вероятность того, что в руках окажутся валет,\n",
    "дама, король и туз."
   ],
   "metadata": {
    "collapsed": false
   },
   "id": "eb9c9955f829f1be"
  },
  {
   "cell_type": "code",
   "execution_count": 26,
   "outputs": [
    {
     "name": "stdout",
     "output_type": "stream",
     "text": [
      "Вероятность выбора валета, дамы, короля и туза: 0.00712\n"
     ]
    }
   ],
   "source": [
    "probability = (4 / 32) * (4 / 31) * (4 / 30) * (4 / 29) * 24\n",
    "\n",
    "print(f\"Вероятность выбора валета, дамы, короля и туза: {probability:.5f}\")\n"
   ],
   "metadata": {
    "collapsed": false,
    "ExecuteTime": {
     "end_time": "2023-10-22T11:47:56.391232800Z",
     "start_time": "2023-10-22T11:47:56.368512Z"
    }
   },
   "id": "4672621d3a2f0613"
  },
  {
   "cell_type": "markdown",
   "source": [
    "30.Три стрелка производят по одному выстрелу. Вероятности\n",
    "попадания в цель каждого стрелка равны 0,9; 0,8; 0,85 соответственно. Найти вероятность того, что в цель попадут ровно два\n",
    "стрелка."
   ],
   "metadata": {
    "collapsed": false
   },
   "id": "2ab54e1ffc3551a6"
  },
  {
   "cell_type": "code",
   "execution_count": 32,
   "outputs": [
    {
     "name": "stdout",
     "output_type": "stream",
     "text": [
      "Вероятность того, что ровно два стрелка попадут: 0.329\n"
     ]
    }
   ],
   "source": [
    "p1 = 0.9\n",
    "p2 = 0.8\n",
    "p3 = 0.85\n",
    "\n",
    "P1 = p1 * p2 * (1 - p3)\n",
    "P2 = p1 * (1 - p2) * p3\n",
    "P3 = (1 - p1) * p2 * p3\n",
    "\n",
    "P = P1 + P2 + P3\n",
    "\n",
    "print(f\"Вероятность того, что ровно два стрелка попадут: {P:.3f}\")"
   ],
   "metadata": {
    "collapsed": false,
    "ExecuteTime": {
     "end_time": "2023-10-22T11:55:14.845906800Z",
     "start_time": "2023-10-22T11:55:14.816910300Z"
    }
   },
   "id": "18f8977c8d9a7753"
  },
  {
   "cell_type": "markdown",
   "source": [
    "16.Вася забыл номер телефона своего приятеля, но помнит из\n",
    "него первые 4 цифры. Всего в номере 7 цифр. Найти вероятность\n",
    "того, что Вася дозвонится до приятеля, если наберёт номер случайным образом"
   ],
   "metadata": {
    "collapsed": false
   },
   "id": "9dafb76985284d61"
  },
  {
   "cell_type": "code",
   "execution_count": 31,
   "outputs": [
    {
     "name": "stdout",
     "output_type": "stream",
     "text": [
      "Вероятность, что Вася дозвонится: 0.001\n"
     ]
    }
   ],
   "source": [
    "p_success = pow(1 / 10, 3)\n",
    "\n",
    "p_failure = 1 - p_success\n",
    "\n",
    "print(f\"Вероятность, что Вася дозвонится: {p_success:.3f}\")"
   ],
   "metadata": {
    "collapsed": false,
    "ExecuteTime": {
     "end_time": "2023-10-22T11:55:10.572085200Z",
     "start_time": "2023-10-22T11:55:10.547211600Z"
    }
   },
   "id": "5480825296a82126"
  },
  {
   "cell_type": "code",
   "execution_count": null,
   "outputs": [],
   "source": [],
   "metadata": {
    "collapsed": false
   },
   "id": "e1b6d1c0ba175229"
  }
 ],
 "metadata": {
  "kernelspec": {
   "display_name": "Python 3",
   "language": "python",
   "name": "python3"
  },
  "language_info": {
   "codemirror_mode": {
    "name": "ipython",
    "version": 2
   },
   "file_extension": ".py",
   "mimetype": "text/x-python",
   "name": "python",
   "nbconvert_exporter": "python",
   "pygments_lexer": "ipython2",
   "version": "2.7.6"
  }
 },
 "nbformat": 4,
 "nbformat_minor": 5
}
